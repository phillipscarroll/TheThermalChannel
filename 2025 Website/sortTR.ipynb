{
 "cells": [
  {
   "cell_type": "code",
   "execution_count": 5,
   "metadata": {},
   "outputs": [],
   "source": [
    "from bs4 import BeautifulSoup\n",
    "\n",
    "# Read the HTML file\n",
    "with open('converted_table.html', 'r', encoding='utf-8') as file:\n",
    "    soup = BeautifulSoup(file, 'html.parser')\n",
    "\n",
    "# Find all <tr> elements\n",
    "rows = soup.find_all('tr')\n",
    "\n",
    "# Initialize groups\n",
    "group_220 = []\n",
    "group_260 = []\n",
    "group_300 = []\n",
    "\n",
    "# Separate rows into groups based on the 5th <td> value\n",
    "for row in rows:\n",
    "    cells = row.find_all('td')\n",
    "    if len(cells) >= 5:\n",
    "        value = cells[4].text.strip()\n",
    "        if value == '220':\n",
    "            group_220.append(row)\n",
    "        elif value == '260':\n",
    "            group_260.append(row)\n",
    "        elif value == '300':\n",
    "            group_300.append(row)\n",
    "\n",
    "# Combine groups in the order AAAA, BBBB, CCCC\n",
    "sorted_rows = group_220 + group_260 + group_300\n",
    "\n",
    "# Create a new BeautifulSoup object for the output HTML\n",
    "output_soup = BeautifulSoup('<table></table>', 'html.parser')\n",
    "output_table = output_soup.table\n",
    "\n",
    "# Add sorted rows to the new table\n",
    "for row in sorted_rows:\n",
    "    output_table.append(row)\n",
    "\n",
    "# Write the sorted rows to a new HTML file\n",
    "with open('sorted_table.html', 'w', encoding='utf-8') as file:\n",
    "    file.write(str(output_soup.prettify()))"
   ]
  },
  {
   "cell_type": "code",
   "execution_count": 7,
   "metadata": {},
   "outputs": [],
   "source": [
    "from bs4 import BeautifulSoup\n",
    "\n",
    "# Read the HTML file\n",
    "with open('sorted_table.html', 'r', encoding='utf-8') as file:\n",
    "    soup = BeautifulSoup(file, 'html.parser')\n",
    "\n",
    "# Find all <tr> elements\n",
    "rows = soup.find_all('tr')\n",
    "\n",
    "# Reformat each <tr> element\n",
    "for row in rows:\n",
    "    for cell in row.find_all('td'):\n",
    "        cell.string = cell.get_text(strip=True)\n",
    "\n",
    "# Write the reformatted HTML to a new file with proper indentation\n",
    "with open('reformatted_table.html', 'w', encoding='utf-8') as file:\n",
    "    for row in rows:\n",
    "        file.write('  <tr>\\n')\n",
    "        for cell in row.find_all('td'):\n",
    "            file.write(f'    <td>{cell.get_text()}</td>\\n')\n",
    "        file.write('  </tr>\\n')"
   ]
  },
  {
   "cell_type": "code",
   "execution_count": null,
   "metadata": {},
   "outputs": [],
   "source": []
  }
 ],
 "metadata": {
  "kernelspec": {
   "display_name": "Python 3 (ipykernel)",
   "language": "python",
   "name": "python3"
  }
 },
 "nbformat": 4,
 "nbformat_minor": 2
}
